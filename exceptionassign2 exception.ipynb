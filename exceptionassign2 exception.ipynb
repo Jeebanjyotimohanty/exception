{
 "cells": [
  {
   "cell_type": "code",
   "execution_count": 1,
   "id": "9fdafb64-8266-4da9-9cc5-99117ecd70f9",
   "metadata": {},
   "outputs": [],
   "source": [
    "#1)we have to use the Exception class while creating a Custom because the base class i.e custom class will inherit from exception class\n"
   ]
  },
  {
   "cell_type": "code",
   "execution_count": 1,
   "id": "e0b6dab1-11f5-4d8c-94b5-1192e129901a",
   "metadata": {},
   "outputs": [],
   "source": [
    "#2)\n",
    "import logging\n",
    "logging.basicConfig(filename=\"exception.log\",level=logging.INFO)\n",
    "d={1:\"BaseException\",2:\"Exception\",3:\"ArithmeticError\",4:\"FloatingPointError\",5:\"OverflowError\",6:\"ZeroDivisionError\",7:\"AssertionError\"}\n",
    "logging.info(\"major exception Heirarchy is:{}\".format(d))"
   ]
  },
  {
   "cell_type": "code",
   "execution_count": null,
   "id": "73f893d6-6c52-4abf-b8a7-c920cd28597c",
   "metadata": {},
   "outputs": [],
   "source": []
  },
  {
   "cell_type": "code",
   "execution_count": 9,
   "id": "fce856dd-b66b-4ae6-af9e-1d0ba204aee4",
   "metadata": {},
   "outputs": [],
   "source": [
    "#3)exception ArithmeticError. The base class for those built-in exceptions that are raised for various arithmetic errors: OverflowError , ZeroDivisionError , FloatingPointError . exception BufferError. \n",
    "import logging\n",
    "logging.basicConfig(filename=\"arithmaticerror.log\" , level=logging.INFO)\n",
    "try:\n",
    "  arithmetic = 5/0\n",
    "  logging.info(\"{}\".format(arithmetic))\n",
    "except ArithmeticError as e:\n",
    "    logging.info('You have just made an Arithmetic error {}'.format(e))\n",
    "logging.shutdown()"
   ]
  },
  {
   "cell_type": "code",
   "execution_count": 3,
   "id": "a7abcdd4-bedd-4dbc-8766-b23e1090bec3",
   "metadata": {},
   "outputs": [],
   "source": [
    "import logging\n",
    "logging.basicConfig(filename=\"arithmaticerror2.log\" , level=logging.INFO)\n",
    "import math\n",
    "\n",
    "try:\n",
    "    logging.info(\"The exponential value is\")\n",
    "    logging.info(math.exp(1000))\n",
    "    \n",
    "except OverflowError as e:\n",
    "    logging.info(\"After overflow {}\".format(e))\n",
    "logging.shutdown()"
   ]
  },
  {
   "cell_type": "code",
   "execution_count": 4,
   "id": "0007f488-6f76-43e0-b6e5-a14da89769b1",
   "metadata": {},
   "outputs": [],
   "source": [
    "#4)The LookupError exception in Python forms the base class for all exceptions that are raised when an index or a key is not found for a sequence or dictionary respectively.\n"
   ]
  },
  {
   "cell_type": "code",
   "execution_count": 4,
   "id": "cb1346de-2107-4d0e-9f64-e18c3798adae",
   "metadata": {},
   "outputs": [],
   "source": [
    "#IndexError\n",
    "import logging\n",
    "logging.basicConfig(filename=\"arithmaticerror3.log\" , level=logging.INFO)\n",
    "x = [1, 2, 3, 4]\n",
    "try:\n",
    "    logging.info(x[10])\n",
    "except LookupError as e:\n",
    "    logging.info(f\"{e}, {e.__class__}\")\n"
   ]
  },
  {
   "cell_type": "code",
   "execution_count": 5,
   "id": "602e1fe5-a518-4ac5-8730-e8f4392eb832",
   "metadata": {},
   "outputs": [
    {
     "name": "stdin",
     "output_type": "stream",
     "text": [
      "What do you want to learn about Pylenin==>  name\n"
     ]
    }
   ],
   "source": [
    "#KeyError\n",
    "\n",
    "pylenin_info = {'name': 'Lenin Mishra',\n",
    "                'age': 28,\n",
    "                'language': 'Python'}\n",
    "user_input = input('What do you want to learn about Pylenin==> ')\n",
    "\n",
    "try:\n",
    "    logging.info(f'{user_input} is {pylenin_info[user_input]}')\n",
    "except LookupError as e:\n",
    "    logging.info(f'{e}, {e.__class__}')"
   ]
  },
  {
   "cell_type": "code",
   "execution_count": 6,
   "id": "79680cf0-3b31-43f3-9570-d7da65ff1ca3",
   "metadata": {},
   "outputs": [],
   "source": [
    "#5)In Python, ImportError occurs when the Python program tries to import module which does not exist in the private table\n",
    "#ModuleNotFoundError:-this error occurs when you're trying to access or use a module that cannot be found"
   ]
  },
  {
   "cell_type": "code",
   "execution_count": null,
   "id": "aab89bd9-0899-4759-bc72-c8bd59815b7f",
   "metadata": {},
   "outputs": [],
   "source": [
    "#6)\n",
    "\"\"\"\n",
    "1)use always a specific exception\n",
    "2)use always a specific exception\n",
    "3)print always a proper message\n",
    "4)lways try to logg your error\n",
    "\"\"\""
   ]
  }
 ],
 "metadata": {
  "kernelspec": {
   "display_name": "Python 3 (ipykernel)",
   "language": "python",
   "name": "python3"
  },
  "language_info": {
   "codemirror_mode": {
    "name": "ipython",
    "version": 3
   },
   "file_extension": ".py",
   "mimetype": "text/x-python",
   "name": "python",
   "nbconvert_exporter": "python",
   "pygments_lexer": "ipython3",
   "version": "3.10.8"
  }
 },
 "nbformat": 4,
 "nbformat_minor": 5
}
